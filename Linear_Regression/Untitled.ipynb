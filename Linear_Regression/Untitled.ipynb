{
 "cells": [
  {
   "cell_type": "markdown",
   "id": "1b23b772-16cb-44e4-b6f2-f12ef15620b1",
   "metadata": {},
   "source": [
    "## Importing Libraries"
   ]
  },
  {
   "cell_type": "code",
   "execution_count": 12,
   "id": "f9d3fc1b-591c-4436-ad95-2a952ed56c86",
   "metadata": {},
   "outputs": [
    {
     "ename": "ModuleNotFoundError",
     "evalue": "No module named 'statsmodels'",
     "output_type": "error",
     "traceback": [
      "\u001b[1;31m---------------------------------------------------------------------------\u001b[0m",
      "\u001b[1;31mModuleNotFoundError\u001b[0m                       Traceback (most recent call last)",
      "Cell \u001b[1;32mIn[12], line 3\u001b[0m\n\u001b[0;32m      1\u001b[0m \u001b[38;5;28;01mimport\u001b[39;00m \u001b[38;5;21;01mpandas\u001b[39;00m \u001b[38;5;28;01mas\u001b[39;00m \u001b[38;5;21;01mpd\u001b[39;00m\n\u001b[0;32m      2\u001b[0m \u001b[38;5;28;01mimport\u001b[39;00m \u001b[38;5;21;01mnumpy\u001b[39;00m \u001b[38;5;28;01mas\u001b[39;00m \u001b[38;5;21;01mnp\u001b[39;00m\n\u001b[1;32m----> 3\u001b[0m \u001b[38;5;28;01mimport\u001b[39;00m \u001b[38;5;21;01mstatsmodels\u001b[39;00m\u001b[38;5;21;01m.\u001b[39;00m\u001b[38;5;21;01mapi\u001b[39;00m \u001b[38;5;28;01mas\u001b[39;00m \u001b[38;5;21;01msm\u001b[39;00m\n\u001b[0;32m      4\u001b[0m \u001b[38;5;28;01mfrom\u001b[39;00m \u001b[38;5;21;01mstatsmodels\u001b[39;00m\u001b[38;5;21;01m.\u001b[39;00m\u001b[38;5;21;01mformula\u001b[39;00m\u001b[38;5;21;01m.\u001b[39;00m\u001b[38;5;21;01mapi\u001b[39;00m \u001b[38;5;28;01mimport\u001b[39;00m ols\n\u001b[0;32m      5\u001b[0m \u001b[38;5;28;01mfrom\u001b[39;00m \u001b[38;5;21;01mstatsmodels\u001b[39;00m\u001b[38;5;21;01m.\u001b[39;00m\u001b[38;5;21;01msandbox\u001b[39;00m\u001b[38;5;21;01m.\u001b[39;00m\u001b[38;5;21;01mregression\u001b[39;00m\u001b[38;5;21;01m.\u001b[39;00m\u001b[38;5;21;01mpredstd\u001b[39;00m \u001b[38;5;28;01mimport\u001b[39;00m wls_prediction_std\n",
      "\u001b[1;31mModuleNotFoundError\u001b[0m: No module named 'statsmodels'"
     ]
    }
   ],
   "source": [
    "import pandas as pd\n",
    "import numpy as np\n",
    "import statsmodels.api as sm\n",
    "from statsmodels.formula.api import ols\n",
    "from statsmodels.sandbox.regression.predstd import wls_prediction_std"
   ]
  },
  {
   "cell_type": "markdown",
   "id": "fb47e1a8-91a3-4834-af5e-8014f3d44df8",
   "metadata": {},
   "source": [
    "## Initialising the data"
   ]
  },
  {
   "cell_type": "code",
   "execution_count": 4,
   "id": "4a696cb8-291f-4d60-8c24-7f1fbca19e96",
   "metadata": {},
   "outputs": [],
   "source": [
    "root = 'https://raw.githubusercontent.com/LearnDataSci/article-resources/master/Housing%20Price%20Index%20Regression'\n",
    "\n",
    "housing_price_index = pd.read_csv(root + '/monthly-hpi.csv')\n",
    "unemployment = pd.read_csv(root + '/unemployment-macro.csv')\n",
    "federal_funds_rate = pd.read_csv(root + '/fed_funds.csv')\n",
    "shiller = pd.read_csv(root + '/shiller.csv')\n",
    "gross_domestic_product = pd.read_csv(root + '/gdp.csv')"
   ]
  },
  {
   "cell_type": "markdown",
   "id": "8279a589-1df0-4bde-86d6-b9540e58897f",
   "metadata": {},
   "source": [
    "## Merging Dataframes to make a single Dataframe"
   ]
  },
  {
   "cell_type": "code",
   "execution_count": 9,
   "id": "e45b56cb-cb41-4bd0-880a-8816628101d3",
   "metadata": {},
   "outputs": [],
   "source": [
    "# merge dataframes into single dataframe by date\n",
    "df = (shiller.merge(housing_price_index, on='date')\n",
    "                    .merge(unemployment, on='date')\n",
    "                    .merge(federal_funds_rate, on='date')\n",
    "                    .merge(gross_domestic_product, on='date'))"
   ]
  },
  {
   "cell_type": "code",
   "execution_count": 10,
   "id": "9702db86-4a98-439f-863e-b34a4967bda0",
   "metadata": {},
   "outputs": [
    {
     "data": {
      "text/html": [
       "<div>\n",
       "<style scoped>\n",
       "    .dataframe tbody tr th:only-of-type {\n",
       "        vertical-align: middle;\n",
       "    }\n",
       "\n",
       "    .dataframe tbody tr th {\n",
       "        vertical-align: top;\n",
       "    }\n",
       "\n",
       "    .dataframe thead th {\n",
       "        text-align: right;\n",
       "    }\n",
       "</style>\n",
       "<table border=\"1\" class=\"dataframe\">\n",
       "  <thead>\n",
       "    <tr style=\"text-align: right;\">\n",
       "      <th></th>\n",
       "      <th>date</th>\n",
       "      <th>sp500</th>\n",
       "      <th>consumer_price_index</th>\n",
       "      <th>long_interest_rate</th>\n",
       "      <th>housing_price_index</th>\n",
       "      <th>total_unemployed</th>\n",
       "      <th>more_than_15_weeks</th>\n",
       "      <th>not_in_labor_searched_for_work</th>\n",
       "      <th>multi_jobs</th>\n",
       "      <th>leavers</th>\n",
       "      <th>losers</th>\n",
       "      <th>federal_funds_rate</th>\n",
       "      <th>total_expenditures</th>\n",
       "      <th>labor_force_pr</th>\n",
       "      <th>producer_price_index</th>\n",
       "      <th>gross_domestic_product</th>\n",
       "    </tr>\n",
       "  </thead>\n",
       "  <tbody>\n",
       "    <tr>\n",
       "      <th>0</th>\n",
       "      <td>2011-01-01</td>\n",
       "      <td>1282.62</td>\n",
       "      <td>220.22</td>\n",
       "      <td>3.39</td>\n",
       "      <td>181.35</td>\n",
       "      <td>16.2</td>\n",
       "      <td>8393</td>\n",
       "      <td>2800</td>\n",
       "      <td>6816</td>\n",
       "      <td>6.5</td>\n",
       "      <td>60.1</td>\n",
       "      <td>0.17</td>\n",
       "      <td>5766.7</td>\n",
       "      <td>64.2</td>\n",
       "      <td>192.7</td>\n",
       "      <td>14881.3</td>\n",
       "    </tr>\n",
       "    <tr>\n",
       "      <th>1</th>\n",
       "      <td>2011-04-01</td>\n",
       "      <td>1331.51</td>\n",
       "      <td>224.91</td>\n",
       "      <td>3.46</td>\n",
       "      <td>180.80</td>\n",
       "      <td>16.1</td>\n",
       "      <td>8016</td>\n",
       "      <td>2466</td>\n",
       "      <td>6823</td>\n",
       "      <td>6.8</td>\n",
       "      <td>59.4</td>\n",
       "      <td>0.10</td>\n",
       "      <td>5870.8</td>\n",
       "      <td>64.2</td>\n",
       "      <td>203.1</td>\n",
       "      <td>14989.6</td>\n",
       "    </tr>\n",
       "    <tr>\n",
       "      <th>2</th>\n",
       "      <td>2011-07-01</td>\n",
       "      <td>1325.19</td>\n",
       "      <td>225.92</td>\n",
       "      <td>3.00</td>\n",
       "      <td>184.25</td>\n",
       "      <td>15.9</td>\n",
       "      <td>8177</td>\n",
       "      <td>2785</td>\n",
       "      <td>6850</td>\n",
       "      <td>6.8</td>\n",
       "      <td>59.2</td>\n",
       "      <td>0.07</td>\n",
       "      <td>5802.6</td>\n",
       "      <td>64.0</td>\n",
       "      <td>204.6</td>\n",
       "      <td>15021.1</td>\n",
       "    </tr>\n",
       "    <tr>\n",
       "      <th>3</th>\n",
       "      <td>2011-10-01</td>\n",
       "      <td>1207.22</td>\n",
       "      <td>226.42</td>\n",
       "      <td>2.15</td>\n",
       "      <td>181.51</td>\n",
       "      <td>15.8</td>\n",
       "      <td>7802</td>\n",
       "      <td>2555</td>\n",
       "      <td>6917</td>\n",
       "      <td>8.0</td>\n",
       "      <td>57.9</td>\n",
       "      <td>0.07</td>\n",
       "      <td>5812.9</td>\n",
       "      <td>64.1</td>\n",
       "      <td>201.1</td>\n",
       "      <td>15190.3</td>\n",
       "    </tr>\n",
       "    <tr>\n",
       "      <th>4</th>\n",
       "      <td>2012-01-01</td>\n",
       "      <td>1300.58</td>\n",
       "      <td>226.66</td>\n",
       "      <td>1.97</td>\n",
       "      <td>179.13</td>\n",
       "      <td>15.2</td>\n",
       "      <td>7433</td>\n",
       "      <td>2809</td>\n",
       "      <td>7022</td>\n",
       "      <td>7.4</td>\n",
       "      <td>57.1</td>\n",
       "      <td>0.08</td>\n",
       "      <td>5765.7</td>\n",
       "      <td>63.7</td>\n",
       "      <td>200.7</td>\n",
       "      <td>15291.0</td>\n",
       "    </tr>\n",
       "  </tbody>\n",
       "</table>\n",
       "</div>"
      ],
      "text/plain": [
       "         date    sp500  consumer_price_index  long_interest_rate  \\\n",
       "0  2011-01-01  1282.62                220.22                3.39   \n",
       "1  2011-04-01  1331.51                224.91                3.46   \n",
       "2  2011-07-01  1325.19                225.92                3.00   \n",
       "3  2011-10-01  1207.22                226.42                2.15   \n",
       "4  2012-01-01  1300.58                226.66                1.97   \n",
       "\n",
       "   housing_price_index  total_unemployed  more_than_15_weeks  \\\n",
       "0               181.35              16.2                8393   \n",
       "1               180.80              16.1                8016   \n",
       "2               184.25              15.9                8177   \n",
       "3               181.51              15.8                7802   \n",
       "4               179.13              15.2                7433   \n",
       "\n",
       "   not_in_labor_searched_for_work  multi_jobs  leavers  losers  \\\n",
       "0                            2800        6816      6.5    60.1   \n",
       "1                            2466        6823      6.8    59.4   \n",
       "2                            2785        6850      6.8    59.2   \n",
       "3                            2555        6917      8.0    57.9   \n",
       "4                            2809        7022      7.4    57.1   \n",
       "\n",
       "   federal_funds_rate  total_expenditures  labor_force_pr  \\\n",
       "0                0.17              5766.7            64.2   \n",
       "1                0.10              5870.8            64.2   \n",
       "2                0.07              5802.6            64.0   \n",
       "3                0.07              5812.9            64.1   \n",
       "4                0.08              5765.7            63.7   \n",
       "\n",
       "   producer_price_index  gross_domestic_product  \n",
       "0                 192.7                 14881.3  \n",
       "1                 203.1                 14989.6  \n",
       "2                 204.6                 15021.1  \n",
       "3                 201.1                 15190.3  \n",
       "4                 200.7                 15291.0  "
      ]
     },
     "execution_count": 10,
     "metadata": {},
     "output_type": "execute_result"
    }
   ],
   "source": [
    "df.head()"
   ]
  },
  {
   "cell_type": "code",
   "execution_count": 11,
   "id": "f2c79be2-8884-41b2-966a-89571a0cd548",
   "metadata": {},
   "outputs": [
    {
     "ename": "NameError",
     "evalue": "name 'ols' is not defined",
     "output_type": "error",
     "traceback": [
      "\u001b[1;31m---------------------------------------------------------------------------\u001b[0m",
      "\u001b[1;31mNameError\u001b[0m                                 Traceback (most recent call last)",
      "Cell \u001b[1;32mIn[11], line 4\u001b[0m\n\u001b[0;32m      1\u001b[0m \u001b[38;5;66;03m# fit our model with .fit() and show results\u001b[39;00m\n\u001b[0;32m      2\u001b[0m \u001b[38;5;66;03m# we use statsmodels' formula API to invoke the syntax below,\u001b[39;00m\n\u001b[0;32m      3\u001b[0m \u001b[38;5;66;03m# where we write out the formula using ~\u001b[39;00m\n\u001b[1;32m----> 4\u001b[0m housing_model \u001b[38;5;241m=\u001b[39m \u001b[43mols\u001b[49m(\u001b[38;5;124m\"\u001b[39m\u001b[38;5;124mhousing_price_index ~ total_unemployed\u001b[39m\u001b[38;5;124m\"\u001b[39m, data\u001b[38;5;241m=\u001b[39mdf)\u001b[38;5;241m.\u001b[39mfit()\n\u001b[0;32m      6\u001b[0m \u001b[38;5;66;03m# summarize our model\u001b[39;00m\n\u001b[0;32m      7\u001b[0m housing_model_summary \u001b[38;5;241m=\u001b[39m housing_model\u001b[38;5;241m.\u001b[39msummary()\n",
      "\u001b[1;31mNameError\u001b[0m: name 'ols' is not defined"
     ]
    }
   ],
   "source": [
    "# fit our model with .fit() and show results\n",
    "# we use statsmodels' formula API to invoke the syntax below,\n",
    "# where we write out the formula using ~\n",
    "housing_model = ols(\"housing_price_index ~ total_unemployed\", data=df).fit()\n",
    "\n",
    "# summarize our model\n",
    "housing_model_summary = housing_model.summary()"
   ]
  },
  {
   "cell_type": "code",
   "execution_count": null,
   "id": "ec86d562-90f4-4fb5-a588-c4b77ce5f7af",
   "metadata": {},
   "outputs": [],
   "source": []
  }
 ],
 "metadata": {
  "kernelspec": {
   "display_name": "Python 3 (ipykernel)",
   "language": "python",
   "name": "python3"
  },
  "language_info": {
   "codemirror_mode": {
    "name": "ipython",
    "version": 3
   },
   "file_extension": ".py",
   "mimetype": "text/x-python",
   "name": "python",
   "nbconvert_exporter": "python",
   "pygments_lexer": "ipython3",
   "version": "3.11.5"
  }
 },
 "nbformat": 4,
 "nbformat_minor": 5
}
